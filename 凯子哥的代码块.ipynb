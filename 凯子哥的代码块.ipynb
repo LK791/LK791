{
 "cells": [
  {
   "cell_type": "markdown",
   "metadata": {},
   "source": [
    "\n",
    "\n",
    "\n",
    "```python\n",
    "\n",
    "from mootdx.reader import Reader\n",
    "# market 参数 std 为标准市场(就是股票), ext 为扩展市场(期货，黄金等)\n",
    "# tdxdir 是通达信的数据目录, 根据自己的情况修改\n",
    "reader = Reader.factory(market='std', tdxdir='C:/new_tdx')\n",
    "# 读取日线数据\n",
    "print(     reader.daily(symbol='873001')    )\n",
    "exit()\n",
    "\n",
    "# 先通达信库客户端，下载好了日线数据，然后使用这个库能直接读取day文件，，，超级无敌好用  库链接 https://github.com/LK791/mootdx\n",
    "# 这个配置好了代码块，使用 mootdx，\n",
    "# 还有超级多的功能，还能读取实时数据，有点厉害了\n",
    "```"
   ]
  },
  {
   "cell_type": "markdown",
   "metadata": {},
   "source": [
    "---\n"
   ]
  },
  {
   "cell_type": "markdown",
   "metadata": {},
   "source": [
    "```python\n",
    "\n",
    "\n",
    "在backtrader里 加载5000只股票\n",
    "数据投喂的时候，，        plot = False    ,    # 超级重要，false就是不用画图了，当我导入了1000只股票，那就非常重要\n",
    "还有       # stdstats=False ,     # 推荐打开，默认是True,观察器选择False,能提升速度,观察器的打开,记录数据只会显示在官方的plt图上,用不上 \n",
    "别设置，，  plot = False   能实现在 plot运行的时候，不打印，股票的数据，不然那么多股票堆一起，bug了\n"
   ]
  },
  {
   "cell_type": "markdown",
   "metadata": {},
   "source": []
  }
 ],
 "metadata": {
  "kernelspec": {
   "display_name": "Python 3",
   "language": "python",
   "name": "python3"
  },
  "language_info": {
   "codemirror_mode": {
    "name": "ipython",
    "version": 3
   },
   "file_extension": ".py",
   "mimetype": "text/x-python",
   "name": "python",
   "nbconvert_exporter": "python",
   "pygments_lexer": "ipython3",
   "version": "3.10.13"
  }
 },
 "nbformat": 4,
 "nbformat_minor": 2
}
