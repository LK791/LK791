{
 "cells": [
  {
   "cell_type": "markdown",
   "metadata": {},
   "source": [
    "\n",
    "\n",
    "\n",
    "```python\n",
    "\n",
    "from mootdx.reader import Reader\n",
    "# market 参数 std 为标准市场(就是股票), ext 为扩展市场(期货，黄金等)\n",
    "# tdxdir 是通达信的数据目录, 根据自己的情况修改\n",
    "reader = Reader.factory(market='std', tdxdir='C:/new_tdx')\n",
    "# 读取日线数据\n",
    "print(     reader.daily(symbol='873001')    )\n",
    "exit()\n",
    "\n",
    "# 先通达信库客户端，下载好了日线数据，然后使用这个库能直接读取day文件，，，超级无敌好用  库链接 https://github.com/LK791/mootdx\n",
    "# 这个配置好了代码块，使用 mootdx，\n",
    "# 还有超级多的功能，还能读取实时数据，有点厉害了\n",
    "```"
   ]
  },
  {
   "cell_type": "markdown",
   "metadata": {},
   "source": [
    "---\n"
   ]
  },
  {
   "cell_type": "markdown",
   "metadata": {},
   "source": []
  }
 ],
 "metadata": {
  "kernelspec": {
   "display_name": "Python 3",
   "language": "python",
   "name": "python3"
  },
  "language_info": {
   "codemirror_mode": {
    "name": "ipython",
    "version": 3
   },
   "file_extension": ".py",
   "mimetype": "text/x-python",
   "name": "python",
   "nbconvert_exporter": "python",
   "pygments_lexer": "ipython3",
   "version": "3.10.13"
  }
 },
 "nbformat": 4,
 "nbformat_minor": 2
}
